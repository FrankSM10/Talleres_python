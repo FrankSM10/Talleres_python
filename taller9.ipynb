{
 "cells": [
  {
   "cell_type": "code",
   "execution_count": 1,
   "metadata": {},
   "outputs": [
    {
     "name": "stdout",
     "output_type": "stream",
     "text": [
      "Frase sin vocales: rrr\n"
     ]
    }
   ],
   "source": [
    "\n",
    "frase = input(\"Ingrese una frase: \")\n",
    "\n",
    "caracter = input(\"Ingrese un carácter específico: \").lower() \n",
    "\n",
    "frase_sin_vocales = \"\"\n",
    "\n",
    "vocales = ['a', 'e', 'i', 'o', 'u']\n",
    "\n",
    "for letra in frase:\n",
    "    if letra.lower() in vocales:\n",
    "        continue\n",
    "\n",
    "    if letra.lower() == caracter:\n",
    "        break\n",
    "\n",
    "    frase_sin_vocales += letra\n",
    "\n",
    "print(\"Frase sin vocales:\", frase_sin_vocales)\n"
   ]
  }
 ],
 "metadata": {
  "kernelspec": {
   "display_name": "Python 3",
   "language": "python",
   "name": "python3"
  },
  "language_info": {
   "codemirror_mode": {
    "name": "ipython",
    "version": 3
   },
   "file_extension": ".py",
   "mimetype": "text/x-python",
   "name": "python",
   "nbconvert_exporter": "python",
   "pygments_lexer": "ipython3",
   "version": "3.11.6"
  }
 },
 "nbformat": 4,
 "nbformat_minor": 2
}
