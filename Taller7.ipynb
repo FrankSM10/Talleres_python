{
 "cells": [
  {
   "cell_type": "code",
   "execution_count": 1,
   "metadata": {},
   "outputs": [
    {
     "name": "stdout",
     "output_type": "stream",
     "text": [
      "Cadena invertida: onaitsirc ,issem ,eppabm ,anolecrab\n"
     ]
    }
   ],
   "source": [
    "\n",
    "cadena = input(\"Ingresa una cadena de caracteres: \")\n",
    "\n",
    "\n",
    "cadena_invertida = \"\"\n",
    "\n",
    "for i in range(len(cadena) - 1, -1, -1):\n",
    "    cadena_invertida += cadena[i]\n",
    "\n",
    "print(\"Cadena invertida:\", cadena_invertida)\n"
   ]
  }
 ],
 "metadata": {
  "kernelspec": {
   "display_name": "Python 3",
   "language": "python",
   "name": "python3"
  },
  "language_info": {
   "codemirror_mode": {
    "name": "ipython",
    "version": 3
   },
   "file_extension": ".py",
   "mimetype": "text/x-python",
   "name": "python",
   "nbconvert_exporter": "python",
   "pygments_lexer": "ipython3",
   "version": "3.11.5"
  },
  "orig_nbformat": 4
 },
 "nbformat": 4,
 "nbformat_minor": 2
}
