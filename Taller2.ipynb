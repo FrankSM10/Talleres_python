{
 "cells": [
  {
   "cell_type": "code",
   "execution_count": null,
   "metadata": {},
   "outputs": [],
   "source": [
    "numero = int(input(\"Ingrese un número entero: \"))\n",
    "\n",
    "if numero % 2 == 0:\n",
    "    mensaje = f\"El número {numero} es par\"\n",
    "else:\n",
    "    mensaje = f\"El número {numero} es impar\"\n",
    "\n",
    "print(mensaje)\n"
   ]
  }
 ],
 "metadata": {
  "kernelspec": {
   "display_name": "Python 3",
   "language": "python",
   "name": "python3"
  },
  "language_info": {
   "name": "python",
   "version": "3.11.4"
  },
  "orig_nbformat": 4
 },
 "nbformat": 4,
 "nbformat_minor": 2
}
