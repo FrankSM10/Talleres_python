{
 "cells": [
  {
   "cell_type": "code",
   "execution_count": 1,
   "metadata": {},
   "outputs": [
    {
     "ename": "ValueError",
     "evalue": "invalid literal for int() with base 10: ''",
     "output_type": "error",
     "traceback": [
      "\u001b[1;31m---------------------------------------------------------------------------\u001b[0m",
      "\u001b[1;31mValueError\u001b[0m                                Traceback (most recent call last)",
      "\u001b[1;32mc:\\Users\\frank\\OneDrive\\Escritorio\\talleres_python\\taller14.ipynb Cell 1\u001b[0m line \u001b[0;36m4\n\u001b[0;32m     <a href='vscode-notebook-cell:/c%3A/Users/frank/OneDrive/Escritorio/talleres_python/taller14.ipynb#W1sZmlsZQ%3D%3D?line=46'>47</a>\u001b[0m \u001b[39m# Ejecutar programa.\u001b[39;00m\n\u001b[0;32m     <a href='vscode-notebook-cell:/c%3A/Users/frank/OneDrive/Escritorio/talleres_python/taller14.ipynb#W1sZmlsZQ%3D%3D?line=47'>48</a>\u001b[0m \u001b[39mif\u001b[39;00m \u001b[39m__name__\u001b[39m \u001b[39m==\u001b[39m \u001b[39m\"\u001b[39m\u001b[39m__main__\u001b[39m\u001b[39m\"\u001b[39m:\n\u001b[1;32m---> <a href='vscode-notebook-cell:/c%3A/Users/frank/OneDrive/Escritorio/talleres_python/taller14.ipynb#W1sZmlsZQ%3D%3D?line=48'>49</a>\u001b[0m     main()\n",
      "\u001b[1;32mc:\\Users\\frank\\OneDrive\\Escritorio\\talleres_python\\taller14.ipynb Cell 1\u001b[0m line \u001b[0;36m3\n\u001b[0;32m     <a href='vscode-notebook-cell:/c%3A/Users/frank/OneDrive/Escritorio/talleres_python/taller14.ipynb#W1sZmlsZQ%3D%3D?line=34'>35</a>\u001b[0m     num_matrices \u001b[39m=\u001b[39m \u001b[39mint\u001b[39m(\u001b[39minput\u001b[39m(\u001b[39m\"\u001b[39m\u001b[39mIngrese la cantidad de matrices que desea sumar: \u001b[39m\u001b[39m\"\u001b[39m))\n\u001b[0;32m     <a href='vscode-notebook-cell:/c%3A/Users/frank/OneDrive/Escritorio/talleres_python/taller14.ipynb#W1sZmlsZQ%3D%3D?line=36'>37</a>\u001b[0m \u001b[39m# 2. Solicitar dimensiones.\u001b[39;00m\n\u001b[1;32m---> <a href='vscode-notebook-cell:/c%3A/Users/frank/OneDrive/Escritorio/talleres_python/taller14.ipynb#W1sZmlsZQ%3D%3D?line=37'>38</a>\u001b[0m filas, columnas \u001b[39m=\u001b[39m solicitar_dimensiones()\n\u001b[0;32m     <a href='vscode-notebook-cell:/c%3A/Users/frank/OneDrive/Escritorio/talleres_python/taller14.ipynb#W1sZmlsZQ%3D%3D?line=39'>40</a>\u001b[0m \u001b[39m# 3. Solicitar elementos de cada matriz.\u001b[39;00m\n\u001b[0;32m     <a href='vscode-notebook-cell:/c%3A/Users/frank/OneDrive/Escritorio/talleres_python/taller14.ipynb#W1sZmlsZQ%3D%3D?line=40'>41</a>\u001b[0m matrices \u001b[39m=\u001b[39m [solicitar_matriz(filas, columnas, i\u001b[39m+\u001b[39m\u001b[39m1\u001b[39m) \u001b[39mfor\u001b[39;00m i \u001b[39min\u001b[39;00m \u001b[39mrange\u001b[39m(num_matrices)]\n",
      "\u001b[1;32mc:\\Users\\frank\\OneDrive\\Escritorio\\talleres_python\\taller14.ipynb Cell 1\u001b[0m line \u001b[0;36m2\n\u001b[0;32m      <a href='vscode-notebook-cell:/c%3A/Users/frank/OneDrive/Escritorio/talleres_python/taller14.ipynb#W1sZmlsZQ%3D%3D?line=0'>1</a>\u001b[0m \u001b[39mdef\u001b[39;00m \u001b[39msolicitar_dimensiones\u001b[39m():\n\u001b[1;32m----> <a href='vscode-notebook-cell:/c%3A/Users/frank/OneDrive/Escritorio/talleres_python/taller14.ipynb#W1sZmlsZQ%3D%3D?line=1'>2</a>\u001b[0m     filas \u001b[39m=\u001b[39m \u001b[39mint\u001b[39;49m(\u001b[39minput\u001b[39;49m(\u001b[39m\"\u001b[39;49m\u001b[39mIngrese la cantidad de filas de las matrices: \u001b[39;49m\u001b[39m\"\u001b[39;49m))\n\u001b[0;32m      <a href='vscode-notebook-cell:/c%3A/Users/frank/OneDrive/Escritorio/talleres_python/taller14.ipynb#W1sZmlsZQ%3D%3D?line=2'>3</a>\u001b[0m     columnas \u001b[39m=\u001b[39m \u001b[39mint\u001b[39m(\u001b[39minput\u001b[39m(\u001b[39m\"\u001b[39m\u001b[39mIngrese la cantidad de columnas de las matrices: \u001b[39m\u001b[39m\"\u001b[39m))\n\u001b[0;32m      <a href='vscode-notebook-cell:/c%3A/Users/frank/OneDrive/Escritorio/talleres_python/taller14.ipynb#W1sZmlsZQ%3D%3D?line=3'>4</a>\u001b[0m     \u001b[39mreturn\u001b[39;00m filas, columnas\n",
      "\u001b[1;31mValueError\u001b[0m: invalid literal for int() with base 10: ''"
     ]
    }
   ],
   "source": [
    "def solicitar_dimensiones():\n",
    "    filas = int(input(\"Ingrese la cantidad de filas de las matrices: \"))\n",
    "    columnas = int(input(\"Ingrese la cantidad de columnas de las matrices: \"))\n",
    "    return filas, columnas\n",
    "\n",
    "def solicitar_matriz(filas, columnas, num_matriz):\n",
    "    matriz = []\n",
    "    print(f\"\\nIntroduzca los valores para la matriz {num_matriz}:\")\n",
    "    for i in range(filas):\n",
    "        fila = []\n",
    "        for j in range(columnas):\n",
    "            valor = int(input(f\"Ingrese el valor para la posición ({i+1}, {j+1}): \"))\n",
    "            fila.append(valor)\n",
    "        matriz.append(fila)\n",
    "    return matriz\n",
    "\n",
    "def sumar_matrices(matrices):\n",
    "    filas = len(matrices[0])\n",
    "    columnas = len(matrices[0][0])\n",
    "    matriz_resultante = [[sum(matriz[i][j] for matriz in matrices) for j in range(columnas)] for i in range(filas)]\n",
    "    return matriz_resultante\n",
    "\n",
    "def imprimir_matrices(matrices, matriz_resultante):\n",
    "    for i in range(len(matrices[0])):\n",
    "        for matriz in matrices:\n",
    "            print(matriz[i], end=\"   +   \" if matriz != matrices[-1] else \"   =   \")\n",
    "        print(matriz_resultante[i])\n",
    "        print()\n",
    "\n",
    "def main():\n",
    "    # 1. Solicitar cantidad de matrices y validar.\n",
    "    num_matrices = int(input(\"Ingrese la cantidad de matrices que desea sumar: \"))\n",
    "    while num_matrices < 2:\n",
    "        print(\"Debe ingresar dos o más matrices.\")\n",
    "        num_matrices = int(input(\"Ingrese la cantidad de matrices que desea sumar: \"))\n",
    "\n",
    "    # 2. Solicitar dimensiones.\n",
    "    filas, columnas = solicitar_dimensiones()\n",
    "\n",
    "    # 3. Solicitar elementos de cada matriz.\n",
    "    matrices = [solicitar_matriz(filas, columnas, i+1) for i in range(num_matrices)]\n",
    "\n",
    "    # 4. Sumar matrices y mostrar resultado.\n",
    "    matriz_resultante = sumar_matrices(matrices)\n",
    "    imprimir_matrices(matrices, matriz_resultante)\n",
    "\n",
    "# Ejecutar programa.\n",
    "if __name__ == \"__main__\":\n",
    "    main()\n"
   ]
  }
 ],
 "metadata": {
  "kernelspec": {
   "display_name": "Python 3",
   "language": "python",
   "name": "python3"
  },
  "language_info": {
   "codemirror_mode": {
    "name": "ipython",
    "version": 3
   },
   "file_extension": ".py",
   "mimetype": "text/x-python",
   "name": "python",
   "nbconvert_exporter": "python",
   "pygments_lexer": "ipython3",
   "version": "3.11.6"
  }
 },
 "nbformat": 4,
 "nbformat_minor": 2
}
