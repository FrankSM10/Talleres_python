{
 "cells": [
  {
   "cell_type": "code",
   "execution_count": 1,
   "metadata": {},
   "outputs": [
    {
     "name": "stdout",
     "output_type": "stream",
     "text": [
      "Cadena resultante: rara, rere,\n"
     ]
    }
   ],
   "source": [
    "\n",
    "cadena = input(\"Ingresa una cadena de caracteres: \")\n",
    "\n",
    "\n",
    "palabra_a_eliminar = input(\"Ingresa la palabra que deseas eliminar: \")\n",
    "\n",
    "\n",
    "palabras = cadena.split()\n",
    "\n",
    "nueva_cadena = ' '.join([palabra for palabra in palabras if palabra != palabra_a_eliminar])\n",
    "\n",
    "\n",
    "print(\"Cadena resultante:\", nueva_cadena)\n"
   ]
  }
 ],
 "metadata": {
  "kernelspec": {
   "display_name": "Python 3",
   "language": "python",
   "name": "python3"
  },
  "language_info": {
   "codemirror_mode": {
    "name": "ipython",
    "version": 3
   },
   "file_extension": ".py",
   "mimetype": "text/x-python",
   "name": "python",
   "nbconvert_exporter": "python",
   "pygments_lexer": "ipython3",
   "version": "3.11.5"
  },
  "orig_nbformat": 4
 },
 "nbformat": 4,
 "nbformat_minor": 2
}
