{
 "cells": [
  {
   "cell_type": "code",
   "execution_count": 1,
   "metadata": {},
   "outputs": [
    {
     "name": "stdout",
     "output_type": "stream",
     "text": [
      "Nombre: Frank\n",
      "Días de vacaciones: 22\n"
     ]
    }
   ],
   "source": [
    "def calcular_dias_vacaciones(clave, antiguedad):\n",
    "    if clave == 1:\n",
    "        if antiguedad == 1:\n",
    "            return 6\n",
    "        elif 2 <= antiguedad <= 6:\n",
    "            return 14\n",
    "        else:\n",
    "            return 20\n",
    "    elif clave == 2:\n",
    "        if antiguedad == 1:\n",
    "            return 7\n",
    "        elif 2 <= antiguedad <= 6:\n",
    "            return 15\n",
    "        else:\n",
    "            return 22\n",
    "    elif clave == 3:\n",
    "        if antiguedad == 1:\n",
    "            return 10\n",
    "        elif 2 <= antiguedad <= 6:\n",
    "            return 20\n",
    "        else:\n",
    "            return 30\n",
    "\n",
    "nombre = input(\"Ingrese el Nombre del trabajador: \")\n",
    "clave = int(input(\"Ingrese la Clave del departamento (1/2/3): \"))\n",
    "antiguedad = int(input(\"Ingrese la Antigüedad del trabajador: \"))\n",
    "\n",
    "dias_vacaciones = calcular_dias_vacaciones(clave, antiguedad)\n",
    "\n",
    "print(\"Nombre:\", nombre)\n",
    "print(\"Días de vacaciones:\", dias_vacaciones)\n"
   ]
  }
 ],
 "metadata": {
  "kernelspec": {
   "display_name": "Python 3",
   "language": "python",
   "name": "python3"
  },
  "language_info": {
   "codemirror_mode": {
    "name": "ipython",
    "version": 3
   },
   "file_extension": ".py",
   "mimetype": "text/x-python",
   "name": "python",
   "nbconvert_exporter": "python",
   "pygments_lexer": "ipython3",
   "version": "3.11.4"
  },
  "orig_nbformat": 4
 },
 "nbformat": 4,
 "nbformat_minor": 2
}
