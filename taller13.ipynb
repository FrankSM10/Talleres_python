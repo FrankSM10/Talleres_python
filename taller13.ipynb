{
 "cells": [
  {
   "cell_type": "code",
   "execution_count": 2,
   "metadata": {},
   "outputs": [
    {
     "name": "stdout",
     "output_type": "stream",
     "text": [
      "\n",
      "Matriz resultante:\n",
      "[10, 12, 13, 13]\n",
      "[13, 1, 1, 2]\n",
      "[2, 3, 3, 4]\n"
     ]
    }
   ],
   "source": [
    "def main():\n",
    "    # 1. Solicitar al usuario la cantidad de filas y columnas.\n",
    "    filas = int(input(\"Ingrese la cantidad de filas de la matriz: \"))\n",
    "    columnas = int(input(\"Ingrese la cantidad de columnas de la matriz: \"))\n",
    "    \n",
    "    # 2. Solicitar los valores de la matriz.\n",
    "    matriz = []\n",
    "    for i in range(filas):\n",
    "        fila = []\n",
    "        for j in range(columnas):\n",
    "            valor = int(input(f\"Ingrese el valor para la posición ({i+1}, {j+1}): \"))\n",
    "            fila.append(valor)\n",
    "        matriz.append(fila)\n",
    "    \n",
    "    # 3. Mostrar la matriz resultante.\n",
    "    print(\"\\nMatriz resultante:\")\n",
    "    for fila in matriz:\n",
    "        print(fila)\n",
    "\n",
    "# Llamar a la función principal para ejecutar el programa.\n",
    "if __name__ == \"__main__\":\n",
    "    main()\n"
   ]
  }
 ],
 "metadata": {
  "kernelspec": {
   "display_name": "Python 3",
   "language": "python",
   "name": "python3"
  },
  "language_info": {
   "codemirror_mode": {
    "name": "ipython",
    "version": 3
   },
   "file_extension": ".py",
   "mimetype": "text/x-python",
   "name": "python",
   "nbconvert_exporter": "python",
   "pygments_lexer": "ipython3",
   "version": "3.11.6"
  }
 },
 "nbformat": 4,
 "nbformat_minor": 2
}
