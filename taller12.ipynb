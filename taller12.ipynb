{
 "cells": [
  {
   "cell_type": "code",
   "execution_count": null,
   "metadata": {},
   "outputs": [],
   "source": [
    "\n",
    "numeros = [1, 2, 3, 4, 5]\n",
    "\n",
    "\n",
    "if len(numeros) >= 2:\n",
    "   \n",
    "    elemento_eliminado_primero = numeros.pop(0)\n",
    "   \n",
    "    elemento_eliminado_ultimo = numeros.pop()\n",
    "\n",
    "   \n",
    "    print(\"Lista con elementos que no fueron eliminados:\", numeros)\n",
    "\n",
    "\n",
    "    elementos_eliminados = [elemento_eliminado_primero, elemento_eliminado_ultimo]\n",
    "    print(\"Lista con elementos eliminados:\", elementos_eliminados)\n",
    "else:\n",
    "    print(\"La lista no tiene suficientes elementos para eliminar el primero y el último.\")\n"
   ]
  }
 ],
 "metadata": {
  "language_info": {
   "name": "python"
  }
 },
 "nbformat": 4,
 "nbformat_minor": 2
}
